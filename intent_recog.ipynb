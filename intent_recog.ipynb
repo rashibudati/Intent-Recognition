{
 "cells": [
  {
   "cell_type": "markdown",
   "metadata": {},
   "source": [
    "# Preprocessing"
   ]
  },
  {
   "cell_type": "code",
   "execution_count": null,
   "metadata": {},
   "outputs": [],
   "source": [
    "data = open('/home/rashi/Downloads/retaskdataset/atis-2.train.w-intent.iob.txt','rt')\n",
    "contents = data.readlines()\n",
    "\n",
    "+++++++++++++"
   ]
  },
  {
   "cell_type": "code",
   "execution_count": null,
   "metadata": {},
   "outputs": [],
   "source": [
    "# print(contents)"
   ]
  },
  {
   "cell_type": "code",
   "execution_count": null,
   "metadata": {},
   "outputs": [],
   "source": [
    "import re\n",
    "# text = contents.split(\"EOS\")\n",
    "# text = re.split('\\t', contents)\n",
    "# text1 = re.split('\\n', text)\n",
    "text_new = [x.replace('BOS','') for x in contents]"
   ]
  },
  {
   "cell_type": "code",
   "execution_count": null,
   "metadata": {},
   "outputs": [],
   "source": [
    "b = []\n",
    "final = []"
   ]
  },
  {
   "cell_type": "code",
   "execution_count": null,
   "metadata": {},
   "outputs": [],
   "source": [
    "for i in text_new:\n",
    "    b.extend(i.split('\\t'))"
   ]
  },
  {
   "cell_type": "code",
   "execution_count": null,
   "metadata": {},
   "outputs": [],
   "source": [
    "for i in b:\n",
    "    final.extend(i.split('\\n'))"
   ]
  },
  {
   "cell_type": "code",
   "execution_count": null,
   "metadata": {},
   "outputs": [],
   "source": [
    "text_main = [y.replace('EOS','') for y in final]"
   ]
  },
  {
   "cell_type": "code",
   "execution_count": null,
   "metadata": {},
   "outputs": [],
   "source": [
    "while('EOS' in final):\n",
    "    final.remove('EOS')"
   ]
  },
  {
   "cell_type": "code",
   "execution_count": null,
   "metadata": {},
   "outputs": [],
   "source": [
    "\n",
    "while('' in text_main):\n",
    "    text_main.remove('')"
   ]
  },
  {
   "cell_type": "code",
   "execution_count": null,
   "metadata": {},
   "outputs": [],
   "source": [
    "# text_main"
   ]
  },
  {
   "cell_type": "code",
   "execution_count": null,
   "metadata": {},
   "outputs": [],
   "source": [
    "tags = []\n",
    "count = 0\n",
    "for i,val in enumerate(text_main):\n",
    "    if i%2 != 0:\n",
    "        tags.append(val)\n",
    "    \n",
    "#         i = i + 1\n",
    "# tags"
   ]
  },
  {
   "cell_type": "code",
   "execution_count": null,
   "metadata": {},
   "outputs": [],
   "source": [
    "sen = []\n",
    "for i,val in enumerate(text_main):\n",
    "    if i%2 == 0:\n",
    "        sen.append(val)"
   ]
  },
  {
   "cell_type": "code",
   "execution_count": null,
   "metadata": {},
   "outputs": [],
   "source": [
    "label = []\n",
    "for i,p in enumerate(tags):\n",
    "    label.append(p.split())\n",
    "label1 = []"
   ]
  },
  {
   "cell_type": "code",
   "execution_count": null,
   "metadata": {},
   "outputs": [],
   "source": [
    "len(label)"
   ]
  },
  {
   "cell_type": "code",
   "execution_count": null,
   "metadata": {},
   "outputs": [],
   "source": [
    "final_label = []\n",
    "for y in label:\n",
    "    final_label.append(y[-1])"
   ]
  },
  {
   "cell_type": "code",
   "execution_count": null,
   "metadata": {},
   "outputs": [],
   "source": [
    "len(final_label)"
   ]
  },
  {
   "cell_type": "code",
   "execution_count": null,
   "metadata": {},
   "outputs": [],
   "source": [
    "len(tags)"
   ]
  },
  {
   "cell_type": "code",
   "execution_count": null,
   "metadata": {},
   "outputs": [],
   "source": [
    "len(sen)"
   ]
  },
  {
   "cell_type": "code",
   "execution_count": null,
   "metadata": {},
   "outputs": [],
   "source": [
    "dictionaryy = [{'final_label':fl, 'sen': sen, 'tags': tags} for fl,sen,tags in zip(final_label,sen,tags)]"
   ]
  },
  {
   "cell_type": "code",
   "execution_count": null,
   "metadata": {},
   "outputs": [],
   "source": [
    "import pandas as pd\n",
    "df = pd.DataFrame(dictionaryy)"
   ]
  },
  {
   "cell_type": "code",
   "execution_count": null,
   "metadata": {
    "scrolled": true
   },
   "outputs": [],
   "source": [
    "df.head()"
   ]
  },
  {
   "cell_type": "code",
   "execution_count": null,
   "metadata": {},
   "outputs": [],
   "source": [
    "df.to_csv('C:/Users/BUD3KOR/Downloads/intent_recognition/retaskdataset/train.csv')"
   ]
  },
  {
   "cell_type": "code",
   "execution_count": null,
   "metadata": {},
   "outputs": [],
   "source": [
    "import spacy\n",
    "nlp = spacy.load('en_core_web_sm')\n",
    "sentence = 'i want to fly from baltimore'\n",
    "doc = nlp(sentence)\n",
    "for ent in doc.ents:\n",
    "    print(ent.text, ent.start_char, ent.end_char, ent.label_) \n"
   ]
  },
  {
   "cell_type": "code",
   "execution_count": null,
   "metadata": {},
   "outputs": [],
   "source": [
    "uni = df.final_label"
   ]
  },
  {
   "cell_type": "code",
   "execution_count": null,
   "metadata": {},
   "outputs": [],
   "source": [
    "import numpy as np\n",
    "len(np.unique(uni))"
   ]
  },
  {
   "cell_type": "code",
   "execution_count": null,
   "metadata": {},
   "outputs": [],
   "source": [
    "df.shape"
   ]
  },
  {
   "cell_type": "code",
   "execution_count": null,
   "metadata": {},
   "outputs": [],
   "source": [
    "df.info()"
   ]
  },
  {
   "cell_type": "code",
   "execution_count": null,
   "metadata": {},
   "outputs": [],
   "source": [
    "import matplotlib.pyplot as plt\n",
    "fig = plt.figure(figsize=(8,6))\n",
    "df.groupby('final_label').sen.count().plot.bar(ylim=0)\n",
    "plt.show()"
   ]
  },
  {
   "cell_type": "markdown",
   "metadata": {},
   "source": [
    "## Created a new column to encode the intent"
   ]
  },
  {
   "cell_type": "code",
   "execution_count": null,
   "metadata": {},
   "outputs": [],
   "source": [
    "# len(train['final_label'].value_counts())"
   ]
  },
  {
   "cell_type": "code",
   "execution_count": 1,
   "metadata": {},
   "outputs": [],
   "source": [
    "import pandas as pd\n",
    "train = pd.read_csv('/home/rashi/Downloads/IER/retaskdataset/train_new.csv', encoding = 'latin-1')\n",
    "test = pd.read_csv('/home/rashi/Downloads/IER/retaskdataset/test_new.csv',encoding = 'latin-1')"
   ]
  },
  {
   "cell_type": "code",
   "execution_count": 4,
   "metadata": {},
   "outputs": [
    {
     "data": {
      "text/plain": [
       "((4470, 6), (889, 6))"
      ]
     },
     "execution_count": 4,
     "metadata": {},
     "output_type": "execute_result"
    }
   ],
   "source": [
    "train.shape, test.shape"
   ]
  },
  {
   "cell_type": "code",
   "execution_count": 5,
   "metadata": {},
   "outputs": [
    {
     "data": {
      "text/html": [
       "<div>\n",
       "<style scoped>\n",
       "    .dataframe tbody tr th:only-of-type {\n",
       "        vertical-align: middle;\n",
       "    }\n",
       "\n",
       "    .dataframe tbody tr th {\n",
       "        vertical-align: top;\n",
       "    }\n",
       "\n",
       "    .dataframe thead th {\n",
       "        text-align: right;\n",
       "    }\n",
       "</style>\n",
       "<table border=\"1\" class=\"dataframe\">\n",
       "  <thead>\n",
       "    <tr style=\"text-align: right;\">\n",
       "      <th></th>\n",
       "      <th>Unnamed: 0</th>\n",
       "      <th>Unnamed: 0.1</th>\n",
       "      <th>final+AF8-label</th>\n",
       "      <th>final+AF8-label1</th>\n",
       "      <th>sen</th>\n",
       "      <th>tags</th>\n",
       "    </tr>\n",
       "  </thead>\n",
       "  <tbody>\n",
       "    <tr>\n",
       "      <th>0</th>\n",
       "      <td>0</td>\n",
       "      <td>0</td>\n",
       "      <td>atis+AF8-flight</td>\n",
       "      <td>11</td>\n",
       "      <td>i want to fly from baltimore to dallas round ...</td>\n",
       "      <td>O O O O O O B+AC0-fromloc.city+AF8-name O B+AC...</td>\n",
       "    </tr>\n",
       "    <tr>\n",
       "      <th>1</th>\n",
       "      <td>1</td>\n",
       "      <td>1</td>\n",
       "      <td>atis+AF8-airfare</td>\n",
       "      <td>3</td>\n",
       "      <td>round trip fares from baltimore to philadelph...</td>\n",
       "      <td>O B+AC0-round+AF8-trip I+AC0-round+AF8-trip O ...</td>\n",
       "    </tr>\n",
       "    <tr>\n",
       "      <th>2</th>\n",
       "      <td>2</td>\n",
       "      <td>2</td>\n",
       "      <td>atis+AF8-flight</td>\n",
       "      <td>11</td>\n",
       "      <td>show me the flights arriving on baltimore on ...</td>\n",
       "      <td>O O O O O O O B+AC0-toloc.city+AF8-name O B+AC...</td>\n",
       "    </tr>\n",
       "    <tr>\n",
       "      <th>3</th>\n",
       "      <td>3</td>\n",
       "      <td>3</td>\n",
       "      <td>atis+AF8-flight</td>\n",
       "      <td>11</td>\n",
       "      <td>what are the flights which depart from san fr...</td>\n",
       "      <td>O O O O O O O O B+AC0-fromloc.city+AF8-name I+...</td>\n",
       "    </tr>\n",
       "    <tr>\n",
       "      <th>4</th>\n",
       "      <td>4</td>\n",
       "      <td>4</td>\n",
       "      <td>atis+AF8-airline</td>\n",
       "      <td>4</td>\n",
       "      <td>which airlines fly from boston to washington ...</td>\n",
       "      <td>O O O O O B+AC0-fromloc.city+AF8-name O B+AC0-...</td>\n",
       "    </tr>\n",
       "  </tbody>\n",
       "</table>\n",
       "</div>"
      ],
      "text/plain": [
       "   Unnamed: 0  Unnamed: 0.1   final+AF8-label  final+AF8-label1  \\\n",
       "0           0             0   atis+AF8-flight                11   \n",
       "1           1             1  atis+AF8-airfare                 3   \n",
       "2           2             2   atis+AF8-flight                11   \n",
       "3           3             3   atis+AF8-flight                11   \n",
       "4           4             4  atis+AF8-airline                 4   \n",
       "\n",
       "                                                 sen  \\\n",
       "0   i want to fly from baltimore to dallas round ...   \n",
       "1   round trip fares from baltimore to philadelph...   \n",
       "2   show me the flights arriving on baltimore on ...   \n",
       "3   what are the flights which depart from san fr...   \n",
       "4   which airlines fly from boston to washington ...   \n",
       "\n",
       "                                                tags  \n",
       "0  O O O O O O B+AC0-fromloc.city+AF8-name O B+AC...  \n",
       "1  O B+AC0-round+AF8-trip I+AC0-round+AF8-trip O ...  \n",
       "2  O O O O O O O B+AC0-toloc.city+AF8-name O B+AC...  \n",
       "3  O O O O O O O O B+AC0-fromloc.city+AF8-name I+...  \n",
       "4  O O O O O B+AC0-fromloc.city+AF8-name O B+AC0-...  "
      ]
     },
     "execution_count": 5,
     "metadata": {},
     "output_type": "execute_result"
    }
   ],
   "source": [
    "train.head()"
   ]
  },
  {
   "cell_type": "code",
   "execution_count": 2,
   "metadata": {},
   "outputs": [],
   "source": [
    "train = train.rename(columns={\"final+AF8-label1\": \"final_label1\"})\n",
    "test = test.rename(columns={\"final+AF8-label1\": \"final_label1\"})"
   ]
  },
  {
   "cell_type": "code",
   "execution_count": 3,
   "metadata": {},
   "outputs": [],
   "source": [
    "# from sklearn.preprocessing import LabelEncoder\n",
    "# Encoder = LabelEncoder()\n",
    "# train['final_label1'] = Encoder.fit_transform(train['final_label'])\n",
    "# test['final_label1'] = Encoder.fit_transform(test['final_label'])\n",
    "# # Train_Y"
   ]
  },
  {
   "cell_type": "code",
   "execution_count": 4,
   "metadata": {},
   "outputs": [
    {
     "data": {
      "text/html": [
       "<div>\n",
       "<style scoped>\n",
       "    .dataframe tbody tr th:only-of-type {\n",
       "        vertical-align: middle;\n",
       "    }\n",
       "\n",
       "    .dataframe tbody tr th {\n",
       "        vertical-align: top;\n",
       "    }\n",
       "\n",
       "    .dataframe thead th {\n",
       "        text-align: right;\n",
       "    }\n",
       "</style>\n",
       "<table border=\"1\" class=\"dataframe\">\n",
       "  <thead>\n",
       "    <tr style=\"text-align: right;\">\n",
       "      <th></th>\n",
       "      <th>Unnamed: 0</th>\n",
       "      <th>Unnamed: 0.1</th>\n",
       "      <th>final+AF8-label</th>\n",
       "      <th>final_label1</th>\n",
       "      <th>sen</th>\n",
       "      <th>tags</th>\n",
       "    </tr>\n",
       "  </thead>\n",
       "  <tbody>\n",
       "    <tr>\n",
       "      <th>0</th>\n",
       "      <td>0</td>\n",
       "      <td>0</td>\n",
       "      <td>atis+AF8-flight</td>\n",
       "      <td>11</td>\n",
       "      <td>i want to fly from baltimore to dallas round ...</td>\n",
       "      <td>O O O O O O B+AC0-fromloc.city+AF8-name O B+AC...</td>\n",
       "    </tr>\n",
       "    <tr>\n",
       "      <th>1</th>\n",
       "      <td>1</td>\n",
       "      <td>1</td>\n",
       "      <td>atis+AF8-airfare</td>\n",
       "      <td>3</td>\n",
       "      <td>round trip fares from baltimore to philadelph...</td>\n",
       "      <td>O B+AC0-round+AF8-trip I+AC0-round+AF8-trip O ...</td>\n",
       "    </tr>\n",
       "    <tr>\n",
       "      <th>2</th>\n",
       "      <td>2</td>\n",
       "      <td>2</td>\n",
       "      <td>atis+AF8-flight</td>\n",
       "      <td>11</td>\n",
       "      <td>show me the flights arriving on baltimore on ...</td>\n",
       "      <td>O O O O O O O B+AC0-toloc.city+AF8-name O B+AC...</td>\n",
       "    </tr>\n",
       "    <tr>\n",
       "      <th>3</th>\n",
       "      <td>3</td>\n",
       "      <td>3</td>\n",
       "      <td>atis+AF8-flight</td>\n",
       "      <td>11</td>\n",
       "      <td>what are the flights which depart from san fr...</td>\n",
       "      <td>O O O O O O O O B+AC0-fromloc.city+AF8-name I+...</td>\n",
       "    </tr>\n",
       "    <tr>\n",
       "      <th>4</th>\n",
       "      <td>4</td>\n",
       "      <td>4</td>\n",
       "      <td>atis+AF8-airline</td>\n",
       "      <td>4</td>\n",
       "      <td>which airlines fly from boston to washington ...</td>\n",
       "      <td>O O O O O B+AC0-fromloc.city+AF8-name O B+AC0-...</td>\n",
       "    </tr>\n",
       "  </tbody>\n",
       "</table>\n",
       "</div>"
      ],
      "text/plain": [
       "   Unnamed: 0  Unnamed: 0.1   final+AF8-label  final_label1  \\\n",
       "0           0             0   atis+AF8-flight            11   \n",
       "1           1             1  atis+AF8-airfare             3   \n",
       "2           2             2   atis+AF8-flight            11   \n",
       "3           3             3   atis+AF8-flight            11   \n",
       "4           4             4  atis+AF8-airline             4   \n",
       "\n",
       "                                                 sen  \\\n",
       "0   i want to fly from baltimore to dallas round ...   \n",
       "1   round trip fares from baltimore to philadelph...   \n",
       "2   show me the flights arriving on baltimore on ...   \n",
       "3   what are the flights which depart from san fr...   \n",
       "4   which airlines fly from boston to washington ...   \n",
       "\n",
       "                                                tags  \n",
       "0  O O O O O O B+AC0-fromloc.city+AF8-name O B+AC...  \n",
       "1  O B+AC0-round+AF8-trip I+AC0-round+AF8-trip O ...  \n",
       "2  O O O O O O O B+AC0-toloc.city+AF8-name O B+AC...  \n",
       "3  O O O O O O O O B+AC0-fromloc.city+AF8-name I+...  \n",
       "4  O O O O O B+AC0-fromloc.city+AF8-name O B+AC0-...  "
      ]
     },
     "execution_count": 4,
     "metadata": {},
     "output_type": "execute_result"
    }
   ],
   "source": [
    "train.head()"
   ]
  },
  {
   "cell_type": "code",
   "execution_count": 9,
   "metadata": {
    "scrolled": true
   },
   "outputs": [
    {
     "data": {
      "text/plain": [
       "['atis+AF8-abbreviation',\n",
       " 'atis+AF8-aircraft',\n",
       " 'atis+AF8-airfare',\n",
       " 'atis+AF8-airline',\n",
       " 'atis+AF8-airport',\n",
       " 'atis+AF8-capacity',\n",
       " 'atis+AF8-city',\n",
       " 'atis+AF8-distance',\n",
       " 'atis+AF8-flight',\n",
       " 'atis+AF8-flight+ACM-atis+AF8-airfare',\n",
       " 'atis+AF8-flight+AF8-no',\n",
       " 'atis+AF8-flight+AF8-no+ACM-atis+AF8-airline',\n",
       " 'atis+AF8-flight+AF8-time',\n",
       " 'atis+AF8-ground+AF8-fare',\n",
       " 'atis+AF8-ground+AF8-service',\n",
       " 'atis+AF8-meal',\n",
       " 'atis+AF8-quantity']"
      ]
     },
     "execution_count": 9,
     "metadata": {},
     "output_type": "execute_result"
    }
   ],
   "source": [
    "# len(test['final_label1'].unique)\n",
    "import numpy as np\n",
    "ki = np.unique(train['final+AF8-label']).tolist()\n",
    "ki"
   ]
  },
  {
   "cell_type": "code",
   "execution_count": 10,
   "metadata": {
    "scrolled": true
   },
   "outputs": [
    {
     "data": {
      "text/plain": [
       "['atis+AF8-abbreviation',\n",
       " 'atis+AF8-aircraft',\n",
       " 'atis+AF8-airfare',\n",
       " 'atis+AF8-airline',\n",
       " 'atis+AF8-airport',\n",
       " 'atis+AF8-capacity',\n",
       " 'atis+AF8-city',\n",
       " 'atis+AF8-distance',\n",
       " 'atis+AF8-flight',\n",
       " 'atis+AF8-flight+ACM-atis+AF8-airfare',\n",
       " 'atis+AF8-flight+AF8-no',\n",
       " 'atis+AF8-flight+AF8-no+ACM-atis+AF8-airline',\n",
       " 'atis+AF8-flight+AF8-time',\n",
       " 'atis+AF8-ground+AF8-fare',\n",
       " 'atis+AF8-ground+AF8-service',\n",
       " 'atis+AF8-meal',\n",
       " 'atis+AF8-quantity']"
      ]
     },
     "execution_count": 10,
     "metadata": {},
     "output_type": "execute_result"
    }
   ],
   "source": [
    "li = np.unique(test['final+AF8-label']).tolist()\n",
    "li"
   ]
  },
  {
   "cell_type": "code",
   "execution_count": 11,
   "metadata": {},
   "outputs": [
    {
     "name": "stdout",
     "output_type": "stream",
     "text": [
      "[]\n"
     ]
    }
   ],
   "source": [
    "def Diff(li1, li2): \n",
    "    return (list(set(li1) - set(li2))) \n",
    "print(Diff(li,ki) )"
   ]
  },
  {
   "cell_type": "code",
   "execution_count": 14,
   "metadata": {},
   "outputs": [],
   "source": [
    "test = test.rename(columns={\"final+AF8-label1\": \"final_label1\"})"
   ]
  },
  {
   "cell_type": "code",
   "execution_count": 12,
   "metadata": {},
   "outputs": [
    {
     "data": {
      "text/html": [
       "<div>\n",
       "<style scoped>\n",
       "    .dataframe tbody tr th:only-of-type {\n",
       "        vertical-align: middle;\n",
       "    }\n",
       "\n",
       "    .dataframe tbody tr th {\n",
       "        vertical-align: top;\n",
       "    }\n",
       "\n",
       "    .dataframe thead th {\n",
       "        text-align: right;\n",
       "    }\n",
       "</style>\n",
       "<table border=\"1\" class=\"dataframe\">\n",
       "  <thead>\n",
       "    <tr style=\"text-align: right;\">\n",
       "      <th></th>\n",
       "      <th>Unnamed: 0</th>\n",
       "      <th>Unnamed: 0.1</th>\n",
       "      <th>final+AF8-label</th>\n",
       "      <th>final_label_1</th>\n",
       "      <th>sen</th>\n",
       "      <th>tags</th>\n",
       "    </tr>\n",
       "  </thead>\n",
       "  <tbody>\n",
       "    <tr>\n",
       "      <th>0</th>\n",
       "      <td>0</td>\n",
       "      <td>0</td>\n",
       "      <td>atis+AF8-flight</td>\n",
       "      <td>10</td>\n",
       "      <td>i would like to find a flight from charlotte ...</td>\n",
       "      <td>O O O O O O O O O B+AC0-fromloc.city+AF8-name ...</td>\n",
       "    </tr>\n",
       "    <tr>\n",
       "      <th>1</th>\n",
       "      <td>1</td>\n",
       "      <td>1</td>\n",
       "      <td>atis+AF8-airfare</td>\n",
       "      <td>2</td>\n",
       "      <td>on april first i need a ticket from tacoma to...</td>\n",
       "      <td>O O B+AC0-depart+AF8-date.month+AF8-name B+AC0...</td>\n",
       "    </tr>\n",
       "    <tr>\n",
       "      <th>2</th>\n",
       "      <td>2</td>\n",
       "      <td>2</td>\n",
       "      <td>atis+AF8-flight</td>\n",
       "      <td>10</td>\n",
       "      <td>on april first i need a flight going from pho...</td>\n",
       "      <td>O O B+AC0-depart+AF8-date.month+AF8-name B+AC0...</td>\n",
       "    </tr>\n",
       "    <tr>\n",
       "      <th>3</th>\n",
       "      <td>3</td>\n",
       "      <td>3</td>\n",
       "      <td>atis+AF8-flight</td>\n",
       "      <td>10</td>\n",
       "      <td>i would like a flight traveling one way from ...</td>\n",
       "      <td>O O O O O O O B+AC0-round+AF8-trip I+AC0-round...</td>\n",
       "    </tr>\n",
       "    <tr>\n",
       "      <th>4</th>\n",
       "      <td>4</td>\n",
       "      <td>4</td>\n",
       "      <td>atis+AF8-flight</td>\n",
       "      <td>10</td>\n",
       "      <td>i would like a flight from orlando to salt la...</td>\n",
       "      <td>O O O O O O O B+AC0-fromloc.city+AF8-name O B+...</td>\n",
       "    </tr>\n",
       "  </tbody>\n",
       "</table>\n",
       "</div>"
      ],
      "text/plain": [
       "   Unnamed: 0  Unnamed: 0.1   final+AF8-label  final_label_1  \\\n",
       "0           0             0   atis+AF8-flight             10   \n",
       "1           1             1  atis+AF8-airfare              2   \n",
       "2           2             2   atis+AF8-flight             10   \n",
       "3           3             3   atis+AF8-flight             10   \n",
       "4           4             4   atis+AF8-flight             10   \n",
       "\n",
       "                                                 sen  \\\n",
       "0   i would like to find a flight from charlotte ...   \n",
       "1   on april first i need a ticket from tacoma to...   \n",
       "2   on april first i need a flight going from pho...   \n",
       "3   i would like a flight traveling one way from ...   \n",
       "4   i would like a flight from orlando to salt la...   \n",
       "\n",
       "                                                tags  \n",
       "0  O O O O O O O O O B+AC0-fromloc.city+AF8-name ...  \n",
       "1  O O B+AC0-depart+AF8-date.month+AF8-name B+AC0...  \n",
       "2  O O B+AC0-depart+AF8-date.month+AF8-name B+AC0...  \n",
       "3  O O O O O O O B+AC0-round+AF8-trip I+AC0-round...  \n",
       "4  O O O O O O O B+AC0-fromloc.city+AF8-name O B+...  "
      ]
     },
     "execution_count": 12,
     "metadata": {},
     "output_type": "execute_result"
    }
   ],
   "source": [
    "test.head()"
   ]
  },
  {
   "cell_type": "code",
   "execution_count": 18,
   "metadata": {},
   "outputs": [
    {
     "name": "stdout",
     "output_type": "stream",
     "text": [
      "17\n"
     ]
    },
    {
     "data": {
      "image/png": "[encoded data removed]",
      "text/plain": [
       "<Figure size 432x288 with 1 Axes>"
      ]
     },
     "metadata": {},
     "output_type": "display_data"
    }
   ],
   "source": [
    "# Visualizing Outcome Distribution\n",
    "import matplotlib.pyplot as plt\n",
    "temp = train[\"final_label_1\"].value_counts()\n",
    "print(len(temp))\n",
    "df = pd.DataFrame({'labels': temp.index,\n",
    "                   'values': temp.values\n",
    "                  })\n",
    "\n",
    "#df.plot(kind='pie',labels='labels',values='values', title='Activity Ditribution',subplots= \"True\")\n",
    "\n",
    "labels = df['labels']\n",
    "sizes = df['values']\n",
    "colors = ['yellowgreen', 'gold', 'lightskyblue', 'lightcoral','cyan','lightpink']\n",
    "patches, texts = plt.pie(sizes, colors=colors, shadow=True, startangle=90, pctdistance=1.1, labeldistance=3.0)\n",
    "plt.legend(patches, labels, loc=\"best\")\n",
    "plt.axis('equal')\n",
    "plt.tight_layout()\n",
    "plt.show()"
   ]
  },
  {
   "cell_type": "code",
   "execution_count": 6,
   "metadata": {},
   "outputs": [
    {
     "data": {
      "text/plain": [
       "(4470, 831)"
      ]
     },
     "execution_count": 6,
     "metadata": {},
     "output_type": "execute_result"
    }
   ],
   "source": [
    "from sklearn.feature_extraction.text import TfidfVectorizer\n",
    "# train['sen']=[\" \".join(review) for review in train['sen'].values]\n",
    "tfidf = TfidfVectorizer()\n",
    "features = tfidf.fit_transform(train.sen).toarray()\n",
    "labels = train['final_label1']\n",
    "features.shape"
   ]
  },
  {
   "cell_type": "code",
   "execution_count": 7,
   "metadata": {},
   "outputs": [],
   "source": [
    "X_m = features"
   ]
  },
  {
   "cell_type": "code",
   "execution_count": 8,
   "metadata": {},
   "outputs": [
    {
     "data": {
      "text/plain": [
       "(4470, 831)"
      ]
     },
     "execution_count": 8,
     "metadata": {},
     "output_type": "execute_result"
    }
   ],
   "source": [
    "X_m.shape"
   ]
  },
  {
   "cell_type": "code",
   "execution_count": 9,
   "metadata": {},
   "outputs": [],
   "source": [
    "from sklearn.decomposition import FastICA\n",
    "FastICA = FastICA(n_components=424, algorithm = 'parallel',whiten = True,max_iter = 100,  random_state=2019)\n",
    "X_fica = FastICA.fit_transform(X_m)"
   ]
  },
  {
   "cell_type": "code",
   "execution_count": 10,
   "metadata": {},
   "outputs": [
    {
     "data": {
      "text/plain": [
       "array([[-2.08680940e-03, -3.99763088e-04,  7.13812981e-04, ...,\n",
       "        -1.25257825e-03,  1.54021716e-03,  8.54831271e-05],\n",
       "       [-3.00718075e-01,  5.69623071e-04,  3.20422595e-04, ...,\n",
       "         9.96613924e-04, -5.05154650e-04, -7.12356628e-04],\n",
       "       [ 1.20426978e-03, -5.31466370e-05, -5.54232111e-04, ...,\n",
       "         3.07314637e-03,  6.80359630e-03, -2.04041950e-03],\n",
       "       ...,\n",
       "       [ 7.90967963e-04,  1.20998653e-04, -7.81674750e-04, ...,\n",
       "         6.11588621e-03,  1.20180463e-03, -1.34517590e-03],\n",
       "       [ 3.86370568e-05,  1.17270687e-04, -6.67190463e-04, ...,\n",
       "         3.08598706e-03,  3.33044583e-03, -3.09574168e-04],\n",
       "       [ 1.53778455e-03,  1.07338149e-03,  8.19592745e-05, ...,\n",
       "         2.25652720e-03,  5.53108506e-03, -1.45200110e-03]])"
      ]
     },
     "execution_count": 10,
     "metadata": {},
     "output_type": "execute_result"
    }
   ],
   "source": [
    "X_fica"
   ]
  },
  {
   "cell_type": "code",
   "execution_count": 11,
   "metadata": {},
   "outputs": [
    {
     "data": {
      "text/plain": [
       "(4470, 424)"
      ]
     },
     "execution_count": 11,
     "metadata": {},
     "output_type": "execute_result"
    }
   ],
   "source": [
    "X_fica.shape"
   ]
  },
  {
   "cell_type": "code",
   "execution_count": 12,
   "metadata": {},
   "outputs": [],
   "source": [
    "from sklearn.preprocessing import MinMaxScaler\n",
    "features_n = MinMaxScaler().fit_transform(X_fica)"
   ]
  },
  {
   "cell_type": "code",
   "execution_count": 13,
   "metadata": {},
   "outputs": [
    {
     "data": {
      "text/plain": [
       "(4470, 424)"
      ]
     },
     "execution_count": 13,
     "metadata": {},
     "output_type": "execute_result"
    }
   ],
   "source": [
    "features_n.shape"
   ]
  },
  {
   "cell_type": "code",
   "execution_count": 14,
   "metadata": {},
   "outputs": [
    {
     "data": {
      "text/plain": [
       "(889, 424)"
      ]
     },
     "execution_count": 14,
     "metadata": {},
     "output_type": "execute_result"
    }
   ],
   "source": [
    "from sklearn.feature_extraction.text import TfidfVectorizer\n",
    "# train['sen']=[\" \".join(review) for review in train['sen'].values]\n",
    "tfidf = TfidfVectorizer()\n",
    "features_test = tfidf.fit_transform(test.sen).toarray()\n",
    "features_test = MinMaxScaler().fit_transform(features_test)\n",
    "features_test.shape"
   ]
  },
  {
   "cell_type": "code",
   "execution_count": 26,
   "metadata": {},
   "outputs": [],
   "source": [
    "from sklearn.model_selection import train_test_split\n",
    "from sklearn.feature_extraction.text import CountVectorizer\n",
    "from sklearn.feature_extraction.text import TfidfTransformer\n",
    "from sklearn.naive_bayes import MultinomialNB\n",
    "\n",
    "X_train, X_val, y_train, y_val = train_test_split(train['sen'], train['final_label1'],test_size = 0.3, random_state = 0)\n",
    "# X_train, y_train = train['sen'], train['final_label']\n",
    "\n",
    "count_vect = CountVectorizer()\n",
    "X_train_counts = count_vect.fit_transform(X_train)\n",
    "tfidf_transformer = TfidfTransformer()\n",
    "X_train_tfidf = tfidf_transformer.fit_transform(X_train_counts)\n",
    "\n",
    "clf = MultinomialNB().fit(X_train_tfidf, y_train)"
   ]
  },
  {
   "cell_type": "code",
   "execution_count": 27,
   "metadata": {},
   "outputs": [
    {
     "name": "stdout",
     "output_type": "stream",
     "text": [
      "[3]\n"
     ]
    }
   ],
   "source": [
    "print(clf.predict(count_vect.transform([' round trip fares from baltimore to philadelphia less than 1000 dollars round trip fares from denver to philadelphia less than 1000 dollars round trip fares from pittsburgh to philadelphia less than 1000 dollars '])))"
   ]
  },
  {
   "cell_type": "code",
   "execution_count": 28,
   "metadata": {},
   "outputs": [
    {
     "name": "stdout",
     "output_type": "stream",
     "text": [
      "[11]\n"
     ]
    }
   ],
   "source": [
    "print(clf.predict(count_vect.transform([' what day of the week do flights from nashville to tacoma fly on '])))"
   ]
  },
  {
   "cell_type": "code",
   "execution_count": 29,
   "metadata": {},
   "outputs": [
    {
     "name": "stdout",
     "output_type": "stream",
     "text": [
      "[19]\n"
     ]
    }
   ],
   "source": [
    "print(clf.predict(count_vect.transform([' how many flights does twa have in business class '])))"
   ]
  },
  {
   "cell_type": "code",
   "execution_count": 30,
   "metadata": {},
   "outputs": [
    {
     "name": "stdout",
     "output_type": "stream",
     "text": [
      "[11]\n"
     ]
    }
   ],
   "source": [
    "print(clf.predict(count_vect.transform([\"which different airlines go from las vegas to new york city \"])))\n",
    "# 4"
   ]
  },
  {
   "cell_type": "code",
   "execution_count": 31,
   "metadata": {},
   "outputs": [
    {
     "name": "stdout",
     "output_type": "stream",
     "text": [
      "[16]\n"
     ]
    }
   ],
   "source": [
    "print(clf.predict(count_vect.transform(['what is the ground transportation between the charlotte airport charlotte airport and downtown charlotte '])))\n",
    "# 17"
   ]
  },
  {
   "cell_type": "code",
   "execution_count": 16,
   "metadata": {
    "scrolled": true
   },
   "outputs": [
    {
     "name": "stderr",
     "output_type": "stream",
     "text": [
      "/home/rashi/anaconda3/lib/python3.7/site-packages/sklearn/model_selection/_split.py:652: Warning: The least populated class in y has only 2 members, which is too few. The minimum number of members in any class cannot be less than n_splits=5.\n",
      "  % (min_groups, self.n_splits)), Warning)\n",
      "/home/rashi/anaconda3/lib/python3.7/site-packages/sklearn/model_selection/_split.py:652: Warning: The least populated class in y has only 2 members, which is too few. The minimum number of members in any class cannot be less than n_splits=5.\n",
      "  % (min_groups, self.n_splits)), Warning)\n",
      "/home/rashi/anaconda3/lib/python3.7/site-packages/sklearn/svm/base.py:922: ConvergenceWarning: Liblinear failed to converge, increase the number of iterations.\n",
      "  \"the number of iterations.\", ConvergenceWarning)\n",
      "/home/rashi/anaconda3/lib/python3.7/site-packages/sklearn/svm/base.py:922: ConvergenceWarning: Liblinear failed to converge, increase the number of iterations.\n",
      "  \"the number of iterations.\", ConvergenceWarning)\n",
      "/home/rashi/anaconda3/lib/python3.7/site-packages/sklearn/svm/base.py:922: ConvergenceWarning: Liblinear failed to converge, increase the number of iterations.\n",
      "  \"the number of iterations.\", ConvergenceWarning)\n",
      "/home/rashi/anaconda3/lib/python3.7/site-packages/sklearn/svm/base.py:922: ConvergenceWarning: Liblinear failed to converge, increase the number of iterations.\n",
      "  \"the number of iterations.\", ConvergenceWarning)\n",
      "/home/rashi/anaconda3/lib/python3.7/site-packages/sklearn/svm/base.py:922: ConvergenceWarning: Liblinear failed to converge, increase the number of iterations.\n",
      "  \"the number of iterations.\", ConvergenceWarning)\n",
      "/home/rashi/anaconda3/lib/python3.7/site-packages/sklearn/model_selection/_split.py:652: Warning: The least populated class in y has only 2 members, which is too few. The minimum number of members in any class cannot be less than n_splits=5.\n",
      "  % (min_groups, self.n_splits)), Warning)\n"
     ]
    },
    {
     "ename": "NameError",
     "evalue": "name 'plt' is not defined",
     "output_type": "error",
     "traceback": [
      "\u001b[0;31m---------------------------------------------------------------------------\u001b[0m",
      "\u001b[0;31mNameError\u001b[0m                                 Traceback (most recent call last)",
      "\u001b[0;32m<ipython-input-16-1247071f0f72>\u001b[0m in \u001b[0;36m<module>\u001b[0;34m\u001b[0m\n\u001b[1;32m     25\u001b[0m sns.stripplot(x='model_name', y='accuracy', data=cv_df, \n\u001b[1;32m     26\u001b[0m               size=8, jitter=True, edgecolor=\"gray\", linewidth=2)\n\u001b[0;32m---> 27\u001b[0;31m \u001b[0mplt\u001b[0m\u001b[0;34m.\u001b[0m\u001b[0mshow\u001b[0m\u001b[0;34m(\u001b[0m\u001b[0;34m)\u001b[0m\u001b[0;34m\u001b[0m\u001b[0;34m\u001b[0m\u001b[0m\n\u001b[0m",
      "\u001b[0;31mNameError\u001b[0m: name 'plt' is not defined"
     ]
    }
   ],
   "source": [
    "from sklearn.ensemble import RandomForestClassifier\n",
    "from sklearn.svm import LinearSVC\n",
    "from sklearn.naive_bayes import MultinomialNB\n",
    "from sklearn.model_selection import cross_val_score\n",
    "\n",
    "models = [\n",
    "    RandomForestClassifier(n_estimators=200, max_depth=3, random_state=0),\n",
    "    LinearSVC(),\n",
    "    MultinomialNB(),\n",
    "    \n",
    "]\n",
    "CV = 5\n",
    "cv_df = pd.DataFrame(index=range(CV * len(models)))\n",
    "entries = []\n",
    "for model in models:\n",
    "    model_name = model.__class__.__name__\n",
    "    accuracies = cross_val_score(model, features_n, labels, scoring='accuracy', cv=CV)\n",
    "    for fold_idx, accuracy in enumerate(accuracies):\n",
    "        entries.append((model_name, fold_idx, accuracy))\n",
    "cv_df = pd.DataFrame(entries, columns=['model_name', 'fold_idx', 'accuracy'])\n",
    "\n",
    "import seaborn as sns\n",
    "\n",
    "sns.boxplot(x='model_name', y='accuracy', data=cv_df)\n",
    "sns.stripplot(x='model_name', y='accuracy', data=cv_df, \n",
    "              size=8, jitter=True, edgecolor=\"gray\", linewidth=2)\n",
    "plt.show()"
   ]
  },
  {
   "cell_type": "code",
   "execution_count": 17,
   "metadata": {},
   "outputs": [
    {
     "data": {
      "text/plain": [
       "model_name\n",
       "LinearSVC                 0.957295\n",
       "MultinomialNB             0.740279\n",
       "RandomForestClassifier    0.741396\n",
       "Name: accuracy, dtype: float64"
      ]
     },
     "execution_count": 17,
     "metadata": {},
     "output_type": "execute_result"
    }
   ],
   "source": [
    "cv_df.groupby('model_name').accuracy.mean()"
   ]
  },
  {
   "cell_type": "code",
   "execution_count": 34,
   "metadata": {
    "scrolled": true
   },
   "outputs": [
    {
     "name": "stderr",
     "output_type": "stream",
     "text": [
      "C:\\Users\\BUD3KOR\\AppData\\Local\\Continuum\\anaconda3\\lib\\site-packages\\sklearn\\svm\\base.py:929: ConvergenceWarning: Liblinear failed to converge, increase the number of iterations.\n",
      "  \"the number of iterations.\", ConvergenceWarning)\n"
     ]
    },
    {
     "data": {
      "text/plain": [
       "LinearSVC(C=1.0, class_weight=None, dual=True, fit_intercept=True,\n",
       "          intercept_scaling=1, loss='squared_hinge', max_iter=1000,\n",
       "          multi_class='ovr', penalty='l2', random_state=None, tol=0.0001,\n",
       "          verbose=0)"
      ]
     },
     "execution_count": 34,
     "metadata": {},
     "output_type": "execute_result"
    }
   ],
   "source": [
    "model = LinearSVC()\n",
    "X_train, X_val, y_train, y_val, indices_train, indices_test = train_test_split(features_n, labels, train.index, test_size=0.33, random_state=0)\n",
    "# X_train, y_train, indices_train = features_n, labels, train.index\n",
    "model.fit(X_train, y_train)"
   ]
  },
  {
   "cell_type": "code",
   "execution_count": 35,
   "metadata": {},
   "outputs": [
    {
     "name": "stdout",
     "output_type": "stream",
     "text": [
      "0.9929859719438878\n"
     ]
    }
   ],
   "source": [
    "from sklearn.metrics import accuracy_score, classification_report, confusion_matrix\n",
    "# model.fit(X_train, y_train)\n",
    "model_pred_train = model.predict(X_train)\n",
    "print(accuracy_score(y_train,model_pred_train))   #Train accuracy"
   ]
  },
  {
   "cell_type": "code",
   "execution_count": null,
   "metadata": {},
   "outputs": [],
   "source": [
    "model_pred_train.shape"
   ]
  },
  {
   "cell_type": "code",
   "execution_count": 36,
   "metadata": {},
   "outputs": [],
   "source": [
    "labels = test['final_label1']"
   ]
  },
  {
   "cell_type": "code",
   "execution_count": null,
   "metadata": {},
   "outputs": [],
   "source": [
    "# X_test,y_test = features_test, test['']"
   ]
  },
  {
   "cell_type": "code",
   "execution_count": 37,
   "metadata": {},
   "outputs": [],
   "source": [
    "y_pred = model.predict(X_val)"
   ]
  },
  {
   "cell_type": "code",
   "execution_count": 38,
   "metadata": {},
   "outputs": [
    {
     "data": {
      "text/plain": [
       "array([14, 10, 11, ..., 11, 11, 11], dtype=int64)"
      ]
     },
     "execution_count": 38,
     "metadata": {},
     "output_type": "execute_result"
    }
   ],
   "source": [
    "y_pred"
   ]
  },
  {
   "cell_type": "code",
   "execution_count": 39,
   "metadata": {},
   "outputs": [
    {
     "name": "stdout",
     "output_type": "stream",
     "text": [
      "0.9566395663956639\n"
     ]
    }
   ],
   "source": [
    "from sklearn.metrics import accuracy_score, classification_report, confusion_matrix\n",
    "print(accuracy_score(y_val,y_pred))        #Validation ACCURACY"
   ]
  },
  {
   "cell_type": "code",
   "execution_count": 40,
   "metadata": {},
   "outputs": [
    {
     "name": "stdout",
     "output_type": "stream",
     "text": [
      "[11 11  1 11 11 11  3 13  3 11]\n"
     ]
    }
   ],
   "source": [
    "print(model.predict(X_val[10:20]))"
   ]
  },
  {
   "cell_type": "code",
   "execution_count": 41,
   "metadata": {},
   "outputs": [
    {
     "data": {
      "text/plain": [
       "2718    11\n",
       "4142    11\n",
       "2057     1\n",
       "3916    11\n",
       "2188    11\n",
       "2847    11\n",
       "3126     3\n",
       "1005    13\n",
       "917      3\n",
       "675     11\n",
       "Name: final_label1, dtype: int64"
      ]
     },
     "execution_count": 41,
     "metadata": {},
     "output_type": "execute_result"
    }
   ],
   "source": [
    "y_val[10:20]"
   ]
  },
  {
   "cell_type": "markdown",
   "metadata": {},
   "source": [
    "# Test Set "
   ]
  },
  {
   "cell_type": "code",
   "execution_count": 42,
   "metadata": {},
   "outputs": [],
   "source": [
    "labels_test = test['final_label1']"
   ]
  },
  {
   "cell_type": "code",
   "execution_count": 43,
   "metadata": {},
   "outputs": [
    {
     "data": {
      "text/plain": [
       "17"
      ]
     },
     "execution_count": 43,
     "metadata": {},
     "output_type": "execute_result"
    }
   ],
   "source": [
    "import numpy as np\n",
    "len(np.unique(train['final_label1']))"
   ]
  },
  {
   "cell_type": "code",
   "execution_count": 46,
   "metadata": {},
   "outputs": [
    {
     "data": {
      "text/plain": [
       "(889, 424)"
      ]
     },
     "execution_count": 46,
     "metadata": {},
     "output_type": "execute_result"
    }
   ],
   "source": [
    "features_test.shape"
   ]
  },
  {
   "cell_type": "code",
   "execution_count": 35,
   "metadata": {},
   "outputs": [],
   "source": [
    "X_test1, y_test1= features_test, test['final_label_1']\n",
    "y_pred1 = model.predict(X_test1)"
   ]
  },
  {
   "cell_type": "code",
   "execution_count": 60,
   "metadata": {},
   "outputs": [
    {
     "data": {
      "text/plain": [
       "array([11,  4,  4,  4,  3,  3, 11,  0,  0,  3], dtype=int64)"
      ]
     },
     "execution_count": 60,
     "metadata": {},
     "output_type": "execute_result"
    }
   ],
   "source": [
    "model.predict(X_test1[10:20])"
   ]
  },
  {
   "cell_type": "code",
   "execution_count": 61,
   "metadata": {
    "scrolled": true
   },
   "outputs": [
    {
     "data": {
      "text/plain": [
       "10    10\n",
       "11    10\n",
       "12    11\n",
       "13    10\n",
       "14    10\n",
       "15    10\n",
       "16    10\n",
       "17    10\n",
       "18    10\n",
       "19    10\n",
       "Name: final_label1, dtype: int64"
      ]
     },
     "execution_count": 61,
     "metadata": {},
     "output_type": "execute_result"
    }
   ],
   "source": [
    "y_test1[10:20]"
   ]
  },
  {
   "cell_type": "code",
   "execution_count": 54,
   "metadata": {},
   "outputs": [
    {
     "name": "stdout",
     "output_type": "stream",
     "text": [
      "0.010123734533183352\n"
     ]
    }
   ],
   "source": [
    "from sklearn.metrics import accuracy_score, classification_report, confusion_matrix\n",
    "model_pred_test = model.predict(features_test)\n",
    "print(accuracy_score(test['final_label1'] ,model_pred_test))  \n",
    "# print(accuracy_score(features_test, y_pred1))        #TEST ACCURACY"
   ]
  },
  {
   "cell_type": "code",
   "execution_count": null,
   "metadata": {},
   "outputs": [],
   "source": [
    "#FAILS ON TEST DATASET.\n"
   ]
  },
  {
   "cell_type": "code",
   "execution_count": null,
   "metadata": {},
   "outputs": [],
   "source": [
    "# XGBoost"
   ]
  },
  {
   "cell_type": "code",
   "execution_count": 29,
   "metadata": {},
   "outputs": [],
   "source": [
    "from numpy import loadtxt\n",
    "from xgboost import XGBClassifier\n",
    "from sklearn.model_selection import train_test_split\n",
    "from sklearn.metrics import accuracy_score\n",
    "xgmodel = XGBClassifier()\n",
    "X_train, X_val, y_train, y_val, indices_train, indices_val = train_test_split(features_n, labels, train.index, test_size=0.33, random_state=0)\n"
   ]
  },
  {
   "cell_type": "code",
   "execution_count": 30,
   "metadata": {},
   "outputs": [
    {
     "data": {
      "text/plain": [
       "XGBClassifier(base_score=0.5, booster='gbtree', colsample_bylevel=1,\n",
       "       colsample_bynode=1, colsample_bytree=1, gamma=0, learning_rate=0.1,\n",
       "       max_delta_step=0, max_depth=3, min_child_weight=1, missing=None,\n",
       "       n_estimators=100, n_jobs=1, nthread=None,\n",
       "       objective='multi:softprob', random_state=0, reg_alpha=0,\n",
       "       reg_lambda=1, scale_pos_weight=1, seed=None, silent=None,\n",
       "       subsample=1, verbosity=1)"
      ]
     },
     "execution_count": 30,
     "metadata": {},
     "output_type": "execute_result"
    }
   ],
   "source": [
    "xgmodel.fit(X_train, y_train)"
   ]
  },
  {
   "cell_type": "code",
   "execution_count": 31,
   "metadata": {},
   "outputs": [],
   "source": [
    "y_pred = xgmodel.predict(X_val)\n",
    "predictions = [round(value) for value in y_pred]"
   ]
  },
  {
   "cell_type": "code",
   "execution_count": 32,
   "metadata": {},
   "outputs": [
    {
     "name": "stdout",
     "output_type": "stream",
     "text": [
      "Accuracy: 92.48%\n"
     ]
    }
   ],
   "source": [
    "# evaluate predictions\n",
    "accuracy = accuracy_score(y_val, predictions)\n",
    "print(\"Accuracy: %.2f%%\" % (accuracy * 100.0))"
   ]
  },
  {
   "cell_type": "code",
   "execution_count": 56,
   "metadata": {},
   "outputs": [
    {
     "data": {
      "text/plain": [
       "array([11, 16, 11, 11, 16, 11, 11, 11, 11, 11, 11, 11, 16, 11, 11, 11, 11,\n",
       "       11, 11, 11])"
      ]
     },
     "execution_count": 56,
     "metadata": {},
     "output_type": "execute_result"
    }
   ],
   "source": [
    "xgmodel.predict(X_val[20:40])"
   ]
  },
  {
   "cell_type": "code",
   "execution_count": 57,
   "metadata": {},
   "outputs": [
    {
     "data": {
      "text/plain": [
       "3603    11\n",
       "3010    16\n",
       "3598    11\n",
       "3878    11\n",
       "4427    16\n",
       "214     11\n",
       "1540    11\n",
       "1559    11\n",
       "927     11\n",
       "3170    11\n",
       "3975    11\n",
       "1804    11\n",
       "4127    16\n",
       "1379    11\n",
       "3284    11\n",
       "2628    11\n",
       "683     11\n",
       "1491    11\n",
       "4237    11\n",
       "4436    11\n",
       "Name: final_label_1, dtype: int64"
      ]
     },
     "execution_count": 57,
     "metadata": {},
     "output_type": "execute_result"
    }
   ],
   "source": [
    "y_val[20:40]"
   ]
  },
  {
   "cell_type": "code",
   "execution_count": 55,
   "metadata": {},
   "outputs": [
    {
     "data": {
      "text/plain": [
       "array([ 3,  3,  3, 10, 10,  3,  3,  3, 10, 10,  3, 10,  9, 10,  9,  9,  3,\n",
       "        3,  3,  3])"
      ]
     },
     "execution_count": 55,
     "metadata": {},
     "output_type": "execute_result"
    }
   ],
   "source": [
    "# Test set from the test file\n",
    "xgmodel.predict(X_test1[20:40])"
   ]
  },
  {
   "cell_type": "code",
   "execution_count": 54,
   "metadata": {
    "scrolled": false
   },
   "outputs": [
    {
     "data": {
      "text/plain": [
       "20    10\n",
       "21    10\n",
       "22    10\n",
       "23    10\n",
       "24    10\n",
       "25    10\n",
       "26    10\n",
       "27    10\n",
       "28    10\n",
       "29    10\n",
       "30    10\n",
       "31    10\n",
       "32    17\n",
       "33    10\n",
       "34    10\n",
       "35    10\n",
       "36    10\n",
       "37    10\n",
       "38    10\n",
       "39    10\n",
       "Name: final_label_1, dtype: int64"
      ]
     },
     "execution_count": 54,
     "metadata": {},
     "output_type": "execute_result"
    }
   ],
   "source": [
    "y_test1[20:40]"
   ]
  },
  {
   "cell_type": "code",
   "execution_count": 49,
   "metadata": {},
   "outputs": [
    {
     "name": "stdout",
     "output_type": "stream",
     "text": [
      "0.012373453318335208\n"
     ]
    }
   ],
   "source": [
    "xgmodel_pred_test = xgmodel.predict(features_test)\n",
    "print(accuracy_score(test['final_label_1'] ,xgmodel_pred_test))"
   ]
  },
  {
   "cell_type": "code",
   "execution_count": null,
   "metadata": {},
   "outputs": [],
   "source": [
    "# Slightly better than Linear SVC"
   ]
  }
 ],
 "metadata": {
  "kernelspec": {
   "display_name": "Python 3",
   "language": "python",
   "name": "python3"
  },
  "language_info": {
   "codemirror_mode": {
    "name": "ipython",
    "version": 3
   },
   "file_extension": ".py",
   "mimetype": "text/x-python",
   "name": "python",
   "nbconvert_exporter": "python",
   "pygments_lexer": "ipython3",
   "version": "3.7.3"
  }
 },
 "nbformat": 4,
 "nbformat_minor": 2
}
